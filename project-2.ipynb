{
 "cells": [
  {
   "cell_type": "code",
   "execution_count": 2,
   "metadata": {},
   "outputs": [],
   "source": [
    "import pandas as pd"
   ]
  },
  {
   "cell_type": "code",
   "execution_count": 3,
   "metadata": {},
   "outputs": [],
   "source": [
    "file_path = 'C:/Users/Shrutika/OneDrive/Desktop/anylist project/Python SAS Internship/Project-2 SAS & PY/Credit card transactions - Project - 2.csv'\n",
    "df = pd.read_csv(file_path)"
   ]
  },
  {
   "cell_type": "markdown",
   "metadata": {},
   "source": [
    "## Top 5 cities with highest spends and their percentage contribution of total credit card spends"
   ]
  },
  {
   "cell_type": "code",
   "execution_count": 4,
   "metadata": {},
   "outputs": [
    {
     "name": "stderr",
     "output_type": "stream",
     "text": [
      "C:\\Users\\Shrutika\\AppData\\Local\\Temp\\ipykernel_9044\\2155135667.py:4: SettingWithCopyWarning: \n",
      "A value is trying to be set on a copy of a slice from a DataFrame.\n",
      "Try using .loc[row_indexer,col_indexer] = value instead\n",
      "\n",
      "See the caveats in the documentation: https://pandas.pydata.org/pandas-docs/stable/user_guide/indexing.html#returning-a-view-versus-a-copy\n",
      "  top_5_cities['Percentage_Contribution'] = (top_5_cities['Amount'] / total_spends) * 100\n"
     ]
    },
    {
     "name": "stdout",
     "output_type": "stream",
     "text": [
      "Top 5 Cities with Highest Spends:\n",
      "                      City  Amount  Percentage_Contribution\n",
      "80   Greater Mumbai, India  998077                 0.024494\n",
      "134           Delhi, India  996754                 0.024461\n",
      "254       Ahmedabad, India  996291                 0.024450\n",
      "183       Ahmedabad, India  995634                 0.024434\n",
      "330           Delhi, India  994537                 0.024407\n"
     ]
    }
   ],
   "source": [
    "df_sorted = df.sort_values(by='Amount', ascending=False)\n",
    "top_5_cities = df_sorted.head(5)\n",
    "total_spends = df['Amount'].sum()\n",
    "top_5_cities['Percentage_Contribution'] = (top_5_cities['Amount'] / total_spends) * 100\n",
    "print(\"Top 5 Cities with Highest Spends:\")\n",
    "print(top_5_cities[['City', 'Amount', 'Percentage_Contribution']])"
   ]
  },
  {
   "cell_type": "markdown",
   "metadata": {},
   "source": [
    "# Highest spend month and amount spent"
   ]
  },
  {
   "cell_type": "code",
   "execution_count": 5,
   "metadata": {},
   "outputs": [],
   "source": [
    "df['Date'] = pd.to_datetime(df['Date'])\n",
    "grouped_data = df.groupby(['Card Type', df['Date'].dt.month])['Amount'].sum().reset_index()\n",
    "# Find the row with the highest spend for each 'CardType'\n",
    "idx = grouped_data.groupby('Card Type')['Amount'].idxmax()\n",
    "\n",
    "# Select the rows with the highest spend for each 'CardType'\n",
    "highest_spend_data = grouped_data.loc[idx]\n"
   ]
  },
  {
   "cell_type": "code",
   "execution_count": 6,
   "metadata": {},
   "outputs": [
    {
     "name": "stdout",
     "output_type": "stream",
     "text": [
      "Highest Spend Month and Amount Spent for Each Card Type:\n",
      "    Card Type  Date     Amount\n",
      "0        Gold     1  110146204\n",
      "12   Platinum     1  112784373\n",
      "33  Signature    10  115694418\n",
      "38     Silver     3  113547912\n"
     ]
    }
   ],
   "source": [
    "print(\"Highest Spend Month and Amount Spent for Each Card Type:\")\n",
    "print(highest_spend_data[['Card Type', 'Date', 'Amount']])"
   ]
  },
  {
   "cell_type": "markdown",
   "metadata": {},
   "source": [
    "## Transaction details reaches a cumulative of 1000000 total spends "
   ]
  },
  {
   "cell_type": "code",
   "execution_count": 7,
   "metadata": {},
   "outputs": [],
   "source": [
    "df['Amount'] = pd.to_numeric(df['Amount'], errors='coerce')\n",
    "\n",
    "# Group by 'CardType' and accumulate the 'AmountSpent'\n",
    "df['CumulativeSpends'] = df.groupby('Card Type')['Amount'].cumsum()\n",
    "\n",
    "# Filter rows where cumulative spends reach 1000000\n",
    "filtered_data = df[df['CumulativeSpends'] >= 1000000]"
   ]
  },
  {
   "cell_type": "code",
   "execution_count": 8,
   "metadata": {},
   "outputs": [
    {
     "name": "stdout",
     "output_type": "stream",
     "text": [
      "Transaction Details for Each Card Type with Cumulative Spends >= 1000000:\n",
      "       index                   City       Date  Card Type Exp Type Gender  \\\n",
      "15        15  Greater Mumbai, India 2014-11-28   Platinum    Bills      F   \n",
      "16        16  Greater Mumbai, India 2014-06-14  Signature    Bills      F   \n",
      "17        17  Greater Mumbai, India 2015-03-30       Gold    Bills      F   \n",
      "18        18  Greater Mumbai, India 2014-03-15   Platinum    Bills      F   \n",
      "19        19  Greater Mumbai, India 2013-11-09   Platinum    Bills      F   \n",
      "...      ...                    ...        ...        ...      ...    ...   \n",
      "26047  26047         Kolkata, India 2014-06-22     Silver   Travel      F   \n",
      "26048  26048            Pune, India 2014-08-03  Signature   Travel      M   \n",
      "26049  26049       Hyderabad, India 2015-01-16     Silver   Travel      M   \n",
      "26050  26050          Kanpur, India 2014-09-14     Silver   Travel      M   \n",
      "26051  26051       Hyderabad, India 2013-10-19  Signature    Bills      M   \n",
      "\n",
      "       Amount  CumulativeSpends  \n",
      "15     647116           1178644  \n",
      "16     421878           1380531  \n",
      "17     986379           1402904  \n",
      "18     213047           1391691  \n",
      "19     735566           2127257  \n",
      "...       ...               ...  \n",
      "26047  128191        1069260520  \n",
      "26048  246316        1012856695  \n",
      "26049  265019        1069525539  \n",
      "26050   88174        1069613713  \n",
      "26051  184410        1013041105  \n",
      "\n",
      "[26036 rows x 8 columns]\n"
     ]
    }
   ],
   "source": [
    "print(\"Transaction Details for Each Card Type with Cumulative Spends >= 1000000:\")\n",
    "print(filtered_data)"
   ]
  },
  {
   "cell_type": "markdown",
   "metadata": {},
   "source": [
    "## Find city which had lowest percentage spend for gold card type"
   ]
  },
  {
   "cell_type": "code",
   "execution_count": 9,
   "metadata": {},
   "outputs": [
    {
     "name": "stderr",
     "output_type": "stream",
     "text": [
      "C:\\Users\\Shrutika\\AppData\\Local\\Temp\\ipykernel_9044\\644706094.py:5: SettingWithCopyWarning: \n",
      "A value is trying to be set on a copy of a slice from a DataFrame.\n",
      "Try using .loc[row_indexer,col_indexer] = value instead\n",
      "\n",
      "See the caveats in the documentation: https://pandas.pydata.org/pandas-docs/stable/user_guide/indexing.html#returning-a-view-versus-a-copy\n",
      "  gold_data['PercentageSpend'] = (gold_data['Amount'] / gold_data.groupby('City')['Amount'].transform('sum')) * 100\n"
     ]
    }
   ],
   "source": [
    "\n",
    "# Filter data for gold card type\n",
    "gold_data = df[df['Card Type'] == 'Gold']\n",
    "\n",
    "# Calculate the percentage spend for each city\n",
    "gold_data['PercentageSpend'] = (gold_data['Amount'] / gold_data.groupby('City')['Amount'].transform('sum')) * 100\n",
    "\n",
    "# Find the city with the lowest percentage spend for gold card type\n",
    "lowest_percentage_city = gold_data.groupby('City')['PercentageSpend'].min().idxmin()"
   ]
  },
  {
   "cell_type": "code",
   "execution_count": 10,
   "metadata": {},
   "outputs": [
    {
     "name": "stdout",
     "output_type": "stream",
     "text": [
      "City with Lowest Percentage Spend for Gold Card Type: Greater Mumbai, India\n"
     ]
    }
   ],
   "source": [
    "print(\"City with Lowest Percentage Spend for Gold Card Type:\", lowest_percentage_city)"
   ]
  },
  {
   "cell_type": "markdown",
   "metadata": {},
   "source": [
    "## Print 3 columns: city, highest_expense_type , lowest_expense_type"
   ]
  },
  {
   "cell_type": "code",
   "execution_count": 11,
   "metadata": {},
   "outputs": [],
   "source": [
    "grouped_data = df.groupby(['City', 'Exp Type'])['Amount'].sum().reset_index()\n",
    "\n",
    "# Find the row with the highest spend for each 'City'\n",
    "idx_max = grouped_data.groupby('City')['Amount'].idxmax()\n",
    "\n",
    "# Find the row with the lowest spend for each 'City'\n",
    "idx_min = grouped_data.groupby('City')['Amount'].idxmin()\n",
    "\n",
    "# Select the rows with the highest and lowest spend for each 'City'\n",
    "highest_expense_data = grouped_data.loc[idx_max]\n",
    "lowest_expense_data = grouped_data.loc[idx_min]\n",
    "\n",
    "# Merge the two DataFrames on 'City'\n",
    "result_data = pd.merge(highest_expense_data[['City', 'Exp Type']], lowest_expense_data[['City', 'Exp Type']],\n",
    "                       on='City', suffixes=('_highest', '_lowest'))"
   ]
  },
  {
   "cell_type": "code",
   "execution_count": 12,
   "metadata": {},
   "outputs": [
    {
     "name": "stdout",
     "output_type": "stream",
     "text": [
      "City, Highest Expense Type, Lowest Expense Type:\n",
      "                 City Exp Type_highest Exp Type_lowest\n",
      "0     Achalpur, India          Grocery   Entertainment\n",
      "1     Adilabad, India            Bills            Food\n",
      "2    Adityapur, India             Food         Grocery\n",
      "3        Adoni, India            Bills   Entertainment\n",
      "4        Adoor, India             Fuel           Bills\n",
      "..                ...              ...             ...\n",
      "981    Zaidpur, India             Food           Bills\n",
      "982    Zamania, India    Entertainment            Fuel\n",
      "983       Zira, India    Entertainment         Grocery\n",
      "984   Zirakpur, India             Fuel   Entertainment\n",
      "985  Zunheboto, India          Grocery   Entertainment\n",
      "\n",
      "[986 rows x 3 columns]\n"
     ]
    }
   ],
   "source": [
    "print(\"City, Highest Expense Type, Lowest Expense Type:\")\n",
    "print(result_data)"
   ]
  },
  {
   "cell_type": "markdown",
   "metadata": {},
   "source": [
    "# Percentage contribution of spends by females for each expense type"
   ]
  },
  {
   "cell_type": "code",
   "execution_count": 13,
   "metadata": {},
   "outputs": [],
   "source": [
    "female_data = df[df['Gender'] == 'F']\n",
    "\n",
    "# Group by 'ExpenseType' and calculate the total amount spent by females for each expense type\n",
    "total_spends_by_expense_type = female_data.groupby('Exp Type')['Amount'].sum()\n",
    "\n",
    "total_spends_by_all_females = female_data['Amount'].sum()\n",
    "\n",
    "percentage_contribution = (total_spends_by_expense_type / total_spends_by_all_females) * 100\n",
    "\n",
    "result_data = pd.DataFrame({\n",
    "    'Exp Type': percentage_contribution.index,\n",
    "    'PercentageContribution': percentage_contribution.values\n",
    "})"
   ]
  },
  {
   "cell_type": "code",
   "execution_count": 14,
   "metadata": {},
   "outputs": [
    {
     "name": "stdout",
     "output_type": "stream",
     "text": [
      "Percentage Contribution of Spends by Females for Each Expense Type:\n",
      "        Exp Type  PercentageContribution\n",
      "0          Bills               26.301753\n",
      "1  Entertainment               16.263617\n",
      "2           Food               20.533035\n",
      "3           Fuel               17.788077\n",
      "4        Grocery               16.580292\n",
      "5         Travel                2.533227\n"
     ]
    }
   ],
   "source": [
    "print(\"Percentage Contribution of Spends by Females for Each Expense Type:\")\n",
    "print(result_data)\n"
   ]
  },
  {
   "cell_type": "markdown",
   "metadata": {},
   "source": [
    "## Highest month over month growth in Jan-2014"
   ]
  },
  {
   "cell_type": "code",
   "execution_count": 15,
   "metadata": {},
   "outputs": [],
   "source": [
    "df['Date'] = pd.to_datetime(df['Date'])\n",
    "\n",
    "# Filter data for January 2014\n",
    "january_2014_data = df[df['Date'] == '01-Jan-14']\n",
    "\n",
    "# Group by 'CardType' and 'ExpenseType', summing the 'AmountSpent'\n",
    "grouped_data = january_2014_data.groupby(['Card Type', 'Exp Type'])['Amount'].sum().reset_index()\n",
    "\n",
    "# Sort the DataFrame by 'AmountSpent' in descending order\n",
    "sorted_data = grouped_data.sort_values(by='Amount', ascending=False)\n",
    "\n",
    "# Select the row with the highest amount spent\n",
    "highest_growth_data = sorted_data.head(1)"
   ]
  },
  {
   "cell_type": "code",
   "execution_count": 16,
   "metadata": {},
   "outputs": [
    {
     "name": "stdout",
     "output_type": "stream",
     "text": [
      "Card and Expense Type Combination with Highest Month-Over-Month Growth in Jan-2014:\n",
      "Card Type Exp Type  Amount\n",
      "Signature    Bills  764353\n"
     ]
    }
   ],
   "source": [
    "print(\"Card and Expense Type Combination with Highest Month-Over-Month Growth in Jan-2014:\")\n",
    "print(highest_growth_data.to_string(index=False))"
   ]
  },
  {
   "cell_type": "markdown",
   "metadata": {},
   "source": [
    "## Highest total spend to total no of transaction’s ratio"
   ]
  },
  {
   "cell_type": "code",
   "execution_count": 17,
   "metadata": {},
   "outputs": [],
   "source": [
    "df['Date'] = pd.to_datetime(df['Date'])\n",
    "\n",
    "# Filter data for weekends (Saturday and Sunday)\n",
    "weekend_data = df[df['Date'].dt.dayofweek.isin([5, 6])]\n",
    "\n",
    "# Group by 'City', summing the 'AmountSpent' and counting the number of transactions\n",
    "grouped_data = weekend_data.groupby('City').agg({'Amount': 'sum', 'index': 'count'}).reset_index()\n",
    "\n",
    "# Calculate the ratio of total spend to total number of transactions\n",
    "grouped_data['Ratio'] = grouped_data['Amount'] / grouped_data['index']\n",
    "\n",
    "# Find the row with the highest ratio\n",
    "highest_ratio_data = grouped_data.loc[grouped_data['Ratio'].idxmax()]"
   ]
  },
  {
   "cell_type": "code",
   "execution_count": 18,
   "metadata": {},
   "outputs": [
    {
     "name": "stdout",
     "output_type": "stream",
     "text": [
      "City with Highest Spend to Transaction Ratio During Weekends:\n",
      "City     Sonepur, India\n",
      "Ratio          299905.0\n",
      "Name: 657, dtype: object\n"
     ]
    }
   ],
   "source": [
    "print(\"City with Highest Spend to Transaction Ratio During Weekends:\")\n",
    "print(highest_ratio_data[['City', 'Ratio']])"
   ]
  },
  {
   "cell_type": "markdown",
   "metadata": {},
   "source": [
    "# 500th transaction after first transaction in that city"
   ]
  },
  {
   "cell_type": "code",
   "execution_count": 19,
   "metadata": {},
   "outputs": [],
   "source": [
    "df['Date'] = pd.to_datetime(df['Date'])\n",
    "\n",
    "# Group by 'City' and calculate the time difference between transactions\n",
    "df['DaysSinceFirstTransaction'] = df.groupby('City')['Date'].transform(lambda x: (x - x.min()).dt.days)\n",
    "\n",
    "# Filter data for cities with at least 500 transactions\n",
    "cities_500_transactions = df[df.groupby('City')['index'].transform('count') >= 500]\n",
    "\n",
    "# Find the city that took the least number of days to reach its 500th transaction after the first transaction\n",
    "result_data = cities_500_transactions.groupby('City')['DaysSinceFirstTransaction'].min().idxmin()\n"
   ]
  },
  {
   "cell_type": "code",
   "execution_count": 20,
   "metadata": {},
   "outputs": [
    {
     "name": "stdout",
     "output_type": "stream",
     "text": [
      "City that took the least days to reach its 500th transaction after the first transaction: Ahmedabad, India\n"
     ]
    }
   ],
   "source": [
    "print(\"City that took the least days to reach its 500th transaction after the first transaction:\", result_data)"
   ]
  }
 ],
 "metadata": {
  "kernelspec": {
   "display_name": "Python 3",
   "language": "python",
   "name": "python3"
  },
  "language_info": {
   "codemirror_mode": {
    "name": "ipython",
    "version": 3
   },
   "file_extension": ".py",
   "mimetype": "text/x-python",
   "name": "python",
   "nbconvert_exporter": "python",
   "pygments_lexer": "ipython3",
   "version": "3.10.4"
  }
 },
 "nbformat": 4,
 "nbformat_minor": 2
}
